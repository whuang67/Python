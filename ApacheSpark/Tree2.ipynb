{
 "cells": [
  {
   "cell_type": "code",
   "execution_count": 2,
   "metadata": {},
   "outputs": [
    {
     "name": "stdout",
     "output_type": "stream",
     "text": [
      "root\n",
      " |-- School: string (nullable = true)\n",
      " |-- Private: string (nullable = true)\n",
      " |-- Apps: integer (nullable = true)\n",
      " |-- Accept: integer (nullable = true)\n",
      " |-- Enroll: integer (nullable = true)\n",
      " |-- Top10perc: integer (nullable = true)\n",
      " |-- Top25perc: integer (nullable = true)\n",
      " |-- F_Undergrad: integer (nullable = true)\n",
      " |-- P_Undergrad: integer (nullable = true)\n",
      " |-- Outstate: integer (nullable = true)\n",
      " |-- Room_Board: integer (nullable = true)\n",
      " |-- Books: integer (nullable = true)\n",
      " |-- Personal: integer (nullable = true)\n",
      " |-- PhD: integer (nullable = true)\n",
      " |-- Terminal: integer (nullable = true)\n",
      " |-- S_F_Ratio: double (nullable = true)\n",
      " |-- perc_alumni: integer (nullable = true)\n",
      " |-- Expend: integer (nullable = true)\n",
      " |-- Grad_Rate: integer (nullable = true)\n",
      "\n"
     ]
    }
   ],
   "source": [
    "import findspark\n",
    "findspark.init('/home/mint/spark-2.1.0-bin-hadoop2.7')\n",
    "from pyspark.sql import SparkSession\n",
    "spark = SparkSession.builder.appName('tree').getOrCreate()\n",
    "data = spark.read.csv('College.csv', inferSchema=True, header=True)\n",
    "data.printSchema()"
   ]
  },
  {
   "cell_type": "code",
   "execution_count": 3,
   "metadata": {},
   "outputs": [],
   "source": [
    "from pyspark.ml.feature import VectorAssembler\n",
    "assembler = VectorAssembler(inputCols = ['Apps', 'Accept', 'Enroll', 'Top10perc', 'Top25perc', \"F_Undergrad\",\n",
    "                                         'P_Undergrad', 'Outstate', 'Room_Board', 'Books', 'Personal', 'PhD',\n",
    "                                         'Terminal', 'S_F_Ratio', 'perc_alumni', 'Expend', 'Grad_Rate'],\n",
    "                            outputCol = 'features')\n",
    "output = assembler.transform(data)"
   ]
  },
  {
   "cell_type": "code",
   "execution_count": 4,
   "metadata": {},
   "outputs": [],
   "source": [
    "from pyspark.ml.feature import StringIndexer\n",
    "indexer = StringIndexer(inputCol = 'Private', outputCol = 'PrivateIndex')\n",
    "output_fixed = indexer.fit(output).transform(output)\n",
    "# output_fixed.show()"
   ]
  },
  {
   "cell_type": "code",
   "execution_count": 5,
   "metadata": {},
   "outputs": [],
   "source": [
    "final_data = output_fixed.select('features', 'PrivateIndex')"
   ]
  },
  {
   "cell_type": "code",
   "execution_count": 6,
   "metadata": {},
   "outputs": [],
   "source": [
    "train_data, test_data = final_data.randomSplit([0.7, 0.3])\n",
    "from pyspark.ml.classification import DecisionTreeClassifier, RandomForestClassifier, GBTClassifier\n",
    "from pyspark.ml import Pipeline\n",
    "dtc = DecisionTreeClassifier(labelCol = 'PrivateIndex', featuresCol = 'features')\n",
    "rfc = RandomForestClassifier(labelCol = 'PrivateIndex', featuresCol = 'features')\n",
    "gbt = GBTClassifier(labelCol = 'PrivateIndex', featuresCol = 'features')"
   ]
  },
  {
   "cell_type": "code",
   "execution_count": 7,
   "metadata": {},
   "outputs": [],
   "source": [
    "dtc_model = dtc.fit(train_data)\n",
    "dtc_preds = dtc_model.transform(test_data)\n",
    "rfc_model = rfc.fit(train_data)\n",
    "rfc_preds = rfc_model.transform(test_data)\n",
    "gbt_model = gbt.fit(train_data)\n",
    "gbt_preds = gbt_model.transform(test_data)"
   ]
  },
  {
   "cell_type": "code",
   "execution_count": 11,
   "metadata": {},
   "outputs": [
    {
     "name": "stdout",
     "output_type": "stream",
     "text": [
      "DTC\n",
      "0.8635129490392649\n",
      "RFC\n",
      "0.9701336675020885\n",
      "GBT\n",
      "0.851921470342523\n"
     ]
    }
   ],
   "source": [
    "from pyspark.ml.evaluation import BinaryClassificationEvaluator\n",
    "my_binary_eval = BinaryClassificationEvaluator(labelCol='PrivateIndex')\n",
    "print('DTC')\n",
    "print(my_binary_eval.evaluate(dtc_preds))\n",
    "print('RFC')\n",
    "print(my_binary_eval.evaluate(rfc_preds))\n",
    "print('GBT')\n",
    "print(BinaryClassificationEvaluator(labelCol='PrivateIndex', rawPredictionCol='prediction').evaluate(gbt_preds))"
   ]
  },
  {
   "cell_type": "code",
   "execution_count": 17,
   "metadata": {},
   "outputs": [
    {
     "name": "stdout",
     "output_type": "stream",
     "text": [
      "DTC\n",
      "0.8976744186046511\n",
      "RF\n",
      "0.9209302325581395\n",
      "DTC\n",
      "0.9023255813953488\n"
     ]
    }
   ],
   "source": [
    "from pyspark.ml.evaluation import MulticlassClassificationEvaluator\n",
    "acc_eval = MulticlassClassificationEvaluator(labelCol='PrivateIndex', metricName='accuracy')\n",
    "print('DTC')\n",
    "print(acc_eval.evaluate(dtc_preds))\n",
    "print('RF')\n",
    "print(acc_eval.evaluate(rfc_preds))\n",
    "print('DTC')\n",
    "print(acc_eval.evaluate(gbt_preds))"
   ]
  },
  {
   "cell_type": "code",
   "execution_count": null,
   "metadata": {},
   "outputs": [],
   "source": []
  }
 ],
 "metadata": {
  "kernelspec": {
   "display_name": "Python 3",
   "language": "python",
   "name": "python3"
  },
  "language_info": {
   "codemirror_mode": {
    "name": "ipython",
    "version": 3
   },
   "file_extension": ".py",
   "mimetype": "text/x-python",
   "name": "python",
   "nbconvert_exporter": "python",
   "pygments_lexer": "ipython3",
   "version": "3.5.2"
  }
 },
 "nbformat": 4,
 "nbformat_minor": 2
}
