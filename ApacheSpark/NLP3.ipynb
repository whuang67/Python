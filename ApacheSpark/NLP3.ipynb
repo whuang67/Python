{
 "cells": [
  {
   "cell_type": "code",
   "execution_count": 2,
   "metadata": {},
   "outputs": [
    {
     "name": "stdout",
     "output_type": "stream",
     "text": [
      "+-----+--------------------+\n",
      "|class|                text|\n",
      "+-----+--------------------+\n",
      "|  ham|Go until jurong p...|\n",
      "|  ham|Ok lar... Joking ...|\n",
      "| spam|Free entry in 2 a...|\n",
      "|  ham|U dun say so earl...|\n",
      "|  ham|Nah I don't think...|\n",
      "| spam|FreeMsg Hey there...|\n",
      "|  ham|Even my brother i...|\n",
      "|  ham|As per your reque...|\n",
      "| spam|WINNER!! As a val...|\n",
      "| spam|Had your mobile 1...|\n",
      "|  ham|I'm gonna be home...|\n",
      "| spam|SIX chances to wi...|\n",
      "| spam|URGENT! You have ...|\n",
      "|  ham|I've been searchi...|\n",
      "|  ham|I HAVE A DATE ON ...|\n",
      "| spam|XXXMobileMovieClu...|\n",
      "|  ham|Oh k...i'm watchi...|\n",
      "|  ham|Eh u remember how...|\n",
      "|  ham|Fine if thats th...|\n",
      "| spam|England v Macedon...|\n",
      "+-----+--------------------+\n",
      "only showing top 20 rows\n",
      "\n"
     ]
    }
   ],
   "source": [
    "import findspark\n",
    "findspark.init('/home/mint/spark-2.1.0-bin-hadoop2.7')\n",
    "from pyspark.sql import SparkSession\n",
    "spark = SparkSession.builder.appName('nlp').getOrCreate()\n",
    "data = spark.read.csv('smsspamcollection/SMSSpamCollection', inferSchema=True, sep='\\t')\n",
    "data = data.withColumnRenamed('_c0', 'class').withColumnRenamed('_c1', 'text')\n",
    "data.show()"
   ]
  },
  {
   "cell_type": "code",
   "execution_count": 3,
   "metadata": {},
   "outputs": [
    {
     "name": "stdout",
     "output_type": "stream",
     "text": [
      "+-----+--------------------+------+\n",
      "|class|                text|length|\n",
      "+-----+--------------------+------+\n",
      "|  ham|Go until jurong p...|   111|\n",
      "|  ham|Ok lar... Joking ...|    29|\n",
      "| spam|Free entry in 2 a...|   155|\n",
      "|  ham|U dun say so earl...|    49|\n",
      "|  ham|Nah I don't think...|    61|\n",
      "| spam|FreeMsg Hey there...|   147|\n",
      "|  ham|Even my brother i...|    77|\n",
      "|  ham|As per your reque...|   160|\n",
      "| spam|WINNER!! As a val...|   157|\n",
      "| spam|Had your mobile 1...|   154|\n",
      "|  ham|I'm gonna be home...|   109|\n",
      "| spam|SIX chances to wi...|   136|\n",
      "| spam|URGENT! You have ...|   155|\n",
      "|  ham|I've been searchi...|   196|\n",
      "|  ham|I HAVE A DATE ON ...|    35|\n",
      "| spam|XXXMobileMovieClu...|   149|\n",
      "|  ham|Oh k...i'm watchi...|    26|\n",
      "|  ham|Eh u remember how...|    81|\n",
      "|  ham|Fine if thats th...|    56|\n",
      "| spam|England v Macedon...|   155|\n",
      "+-----+--------------------+------+\n",
      "only showing top 20 rows\n",
      "\n"
     ]
    }
   ],
   "source": [
    "from pyspark.sql.functions import length\n",
    "data = data.withColumn('length', length(data['text']))\n",
    "data.show()"
   ]
  },
  {
   "cell_type": "code",
   "execution_count": 4,
   "metadata": {},
   "outputs": [
    {
     "name": "stdout",
     "output_type": "stream",
     "text": [
      "+-----+-----------------+\n",
      "|class|      avg(length)|\n",
      "+-----+-----------------+\n",
      "|  ham|71.45431945307645|\n",
      "| spam|138.6706827309237|\n",
      "+-----+-----------------+\n",
      "\n"
     ]
    }
   ],
   "source": [
    "data.groupBy('class').mean().show()"
   ]
  },
  {
   "cell_type": "code",
   "execution_count": 11,
   "metadata": {},
   "outputs": [],
   "source": [
    "from pyspark.ml.feature import Tokenizer, StopWordsRemover, CountVectorizer, IDF, StringIndexer, VectorAssembler\n",
    "tokenizer = Tokenizer(inputCol='text', outputCol='token_text')\n",
    "stopwordsremover = StopWordsRemover(inputCol='token_text', outputCol='stop_token')\n",
    "cv = CountVectorizer(inputCol='stop_token', outputCol='c_vec')\n",
    "idf = IDF(inputCol='c_vec', outputCol='tfidf')\n",
    "class_num = StringIndexer(inputCol='class', outputCol='label')\n",
    "\n",
    "clean_up = VectorAssembler(inputCols=['tfidf', 'length'], outputCol='features')"
   ]
  },
  {
   "cell_type": "code",
   "execution_count": 13,
   "metadata": {},
   "outputs": [
    {
     "name": "stdout",
     "output_type": "stream",
     "text": [
      "+-----+--------------------+\n",
      "|label|            features|\n",
      "+-----+--------------------+\n",
      "|  0.0|(13459,[8,12,33,6...|\n",
      "|  0.0|(13459,[0,26,308,...|\n",
      "|  1.0|(13459,[2,14,20,3...|\n",
      "|  0.0|(13459,[0,73,84,1...|\n",
      "|  0.0|(13459,[36,39,140...|\n",
      "|  1.0|(13459,[11,57,62,...|\n",
      "|  0.0|(13459,[11,55,108...|\n",
      "|  0.0|(13459,[133,195,4...|\n",
      "|  1.0|(13459,[1,50,124,...|\n",
      "|  1.0|(13459,[0,1,14,29...|\n",
      "|  0.0|(13459,[5,19,36,4...|\n",
      "|  1.0|(13459,[9,18,40,9...|\n",
      "|  1.0|(13459,[14,32,50,...|\n",
      "|  0.0|(13459,[42,99,101...|\n",
      "|  0.0|(13459,[567,1745,...|\n",
      "|  1.0|(13459,[32,113,11...|\n",
      "|  0.0|(13459,[86,224,47...|\n",
      "|  0.0|(13459,[0,2,52,13...|\n",
      "|  0.0|(13459,[0,77,107,...|\n",
      "|  1.0|(13459,[4,32,35,6...|\n",
      "+-----+--------------------+\n",
      "only showing top 20 rows\n",
      "\n"
     ]
    }
   ],
   "source": [
    "from pyspark.ml import Pipeline\n",
    "data_pipeline = Pipeline(stages = [tokenizer, stopwordsremover, cv, idf, class_num, clean_up])\n",
    "cleaned_data = data_pipeline.fit(data).transform(data).select('label', 'features')\n",
    "cleaned_data.show()"
   ]
  },
  {
   "cell_type": "code",
   "execution_count": 14,
   "metadata": {},
   "outputs": [
    {
     "name": "stdout",
     "output_type": "stream",
     "text": [
      "+-----+--------------------+--------------------+--------------------+----------+\n",
      "|label|            features|       rawPrediction|         probability|prediction|\n",
      "+-----+--------------------+--------------------+--------------------+----------+\n",
      "|  0.0|(13459,[0,1,2,8,9...|[-799.84714978817...|[1.0,3.2452063348...|       0.0|\n",
      "|  0.0|(13459,[0,1,2,14,...|[-611.54973074610...|[1.0,2.8590504487...|       0.0|\n",
      "|  0.0|(13459,[0,1,2,44,...|[-1075.8624676379...|[1.0,1.4126781798...|       0.0|\n",
      "|  0.0|(13459,[0,1,4,53,...|[-803.23992927190...|[1.0,6.8138429225...|       0.0|\n",
      "|  0.0|(13459,[0,1,6,16,...|[-998.13107558111...|[1.0,6.5983076185...|       0.0|\n",
      "|  0.0|(13459,[0,1,8,9,1...|[-1170.9432459918...|[1.0,2.8519068602...|       0.0|\n",
      "|  0.0|(13459,[0,1,10,15...|[-568.35270741540...|[1.0,7.3140955928...|       0.0|\n",
      "|  0.0|(13459,[0,1,10,15...|[-568.35270741540...|[1.0,7.3140955928...|       0.0|\n",
      "|  0.0|(13459,[0,1,12,34...|[-882.27211441693...|[1.0,2.5855921035...|       0.0|\n",
      "|  0.0|(13459,[0,1,13,35...|[-446.61441990278...|[1.0,9.9347153966...|       0.0|\n",
      "|  0.0|(13459,[0,1,15,33...|[-219.54964055756...|[1.0,4.4076183358...|       0.0|\n",
      "|  0.0|(13459,[0,1,19,21...|[-868.50856767560...|[1.0,8.3250214261...|       0.0|\n",
      "|  0.0|(13459,[0,1,29,38...|[-1471.4966239221...|[0.99999999999918...|       0.0|\n",
      "|  0.0|(13459,[0,1,29,89...|[-1538.9021474843...|[1.37825771939394...|       1.0|\n",
      "|  0.0|(13459,[0,1,32,12...|[-598.96704964802...|[1.0,5.6024524495...|       0.0|\n",
      "|  0.0|(13459,[0,1,46,72...|[-615.14596587091...|[0.99984929391519...|       0.0|\n",
      "|  0.0|(13459,[0,1,49,18...|[-1158.0812541606...|[9.21247449870396...|       1.0|\n",
      "|  0.0|(13459,[0,1,439,6...|[-300.77144469176...|[0.99999999999999...|       0.0|\n",
      "|  0.0|(13459,[0,1,510,5...|[-320.98016980723...|[0.99999999996146...|       0.0|\n",
      "|  0.0|(13459,[0,1,896,1...|[-96.474067490880...|[0.99999995930257...|       0.0|\n",
      "+-----+--------------------+--------------------+--------------------+----------+\n",
      "only showing top 20 rows\n",
      "\n"
     ]
    }
   ],
   "source": [
    "train_data, test_data = cleaned_data.randomSplit([0.7, 0.3])\n",
    "from pyspark.ml.classification import NaiveBayes\n",
    "model = NaiveBayes().fit(train_data)\n",
    "results = model.transform(test_data)\n",
    "results.show()"
   ]
  },
  {
   "cell_type": "code",
   "execution_count": 19,
   "metadata": {},
   "outputs": [
    {
     "name": "stdout",
     "output_type": "stream",
     "text": [
      "Test accuracy:\n",
      "0.9186046511627907\n",
      "Train accuracy:\n",
      "0.9959390862944163\n"
     ]
    }
   ],
   "source": [
    "from pyspark.ml.evaluation import MulticlassClassificationEvaluator\n",
    "print('Test accuracy:')\n",
    "print(MulticlassClassificationEvaluator(metricName='accuracy').evaluate(results))\n",
    "print('Train accuracy:')\n",
    "print(MulticlassClassificationEvaluator(metricName='accuracy').evaluate(model.transform(train_data)))"
   ]
  },
  {
   "cell_type": "code",
   "execution_count": null,
   "metadata": {},
   "outputs": [],
   "source": []
  }
 ],
 "metadata": {
  "kernelspec": {
   "display_name": "Python 3",
   "language": "python",
   "name": "python3"
  },
  "language_info": {
   "codemirror_mode": {
    "name": "ipython",
    "version": 3
   },
   "file_extension": ".py",
   "mimetype": "text/x-python",
   "name": "python",
   "nbconvert_exporter": "python",
   "pygments_lexer": "ipython3",
   "version": "3.5.2"
  }
 },
 "nbformat": 4,
 "nbformat_minor": 2
}
