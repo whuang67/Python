{
 "cells": [
  {
   "cell_type": "markdown",
   "metadata": {},
   "source": [
    "# What is Python?\n",
    "From Wikipedia: \n",
    "- Python is a widely used high-level, general-purpose, interpreted,\n",
    "dynamic programming language.\n",
    "- Design philosophy emphasizes code readability, and its syntax allows\n",
    "programmers to express concepts in fewer lines of code than possible\n",
    "in languages such as C++ or Java."
   ]
  },
  {
   "cell_type": "markdown",
   "metadata": {},
   "source": [
    "# Python Function"
   ]
  },
  {
   "cell_type": "code",
   "execution_count": 1,
   "metadata": {},
   "outputs": [
    {
     "name": "stdout",
     "output_type": "stream",
     "text": [
      "Hello World\n"
     ]
    }
   ],
   "source": [
    "def main():\n",
    "    print(\"Hello World\")\n",
    "main()"
   ]
  },
  {
   "cell_type": "markdown",
   "metadata": {},
   "source": [
    "## Python String Manipulation"
   ]
  },
  {
   "cell_type": "code",
   "execution_count": 2,
   "metadata": {},
   "outputs": [
    {
     "name": "stdout",
     "output_type": "stream",
     "text": [
      "Hello ECE544\n",
      "Hello ECE544\n",
      "Hello ECE544\n"
     ]
    }
   ],
   "source": [
    "line1 = \"Hello\"\n",
    "line2 = \"ECE544\"\n",
    "class_num = 544\n",
    "print(line1 + ' ' + line2)\n",
    "\n",
    "print(\"%s %s\" % (line1,line2))\n",
    "\n",
    "print(\"%s ECE%d\" % (line1, class_num))"
   ]
  },
  {
   "cell_type": "markdown",
   "metadata": {},
   "source": [
    "## Python Containers"
   ]
  },
  {
   "cell_type": "markdown",
   "metadata": {},
   "source": [
    "### Python Dictionary\n",
    "https://docs.python.org/3/tutorial/datastructures.html#dictionaries\n",
    "\n",
    "Let's say we have data containing an student i.d. and their favorite classifier.\n",
    "\n",
    "Student 1 : SVM\n",
    "\n",
    "Student 2 : Deep Network\n",
    "\n",
    "Studnet 3 : Linear Regression "
   ]
  },
  {
   "cell_type": "code",
   "execution_count": 3,
   "metadata": {},
   "outputs": [
    {
     "name": "stdout",
     "output_type": "stream",
     "text": [
      "{'1': 'SVM', '2': 'Deep Network', '3': 'Linear Regression'}\n",
      "{'1': 'SVM', '2': 'Perceptron', '3': 'Linear Regression'}\n",
      "Student 1's favorite classifier is SVM\n"
     ]
    }
   ],
   "source": [
    "student_classifier_dict = {}\n",
    "student_classifier_dict['1'] = 'SVM'\n",
    "student_classifier_dict['2'] = 'Deep Network'\n",
    "student_classifier_dict['3'] = 'Linear Regression'\n",
    "print(student_classifier_dict)\n",
    "\n",
    "student_classifier_dict = {'1':'SVM', '2':'Perceptron', '3':'Linear Regression'}\n",
    "print(student_classifier_dict)\n",
    "\n",
    "print(\"Student %s's favorite classifier is %s\" % ('1', student_classifier_dict['1']))"
   ]
  },
  {
   "cell_type": "markdown",
   "metadata": {},
   "source": [
    "### Python List\n",
    "https://docs.python.org/3/tutorial/datastructures.html#list-comprehensions\n",
    "\n",
    "**Note:** Python index starts with 0\n",
    " \n",
    "Same example as above"
   ]
  },
  {
   "cell_type": "code",
   "execution_count": 4,
   "metadata": {},
   "outputs": [
    {
     "name": "stdout",
     "output_type": "stream",
     "text": [
      "['SVM', 'Deep Network', 'Linear Regression']\n",
      "Student 2's favorite classifier is Deep Network\n",
      "['SVM', 'Deep Network']\n",
      "['SVM', 'Deep Network']\n",
      "['Deep Network']\n"
     ]
    }
   ],
   "source": [
    "student_classifier_list = []\n",
    "student_classifier_list.append('SVM')\n",
    "student_classifier_list.append('Deep Network')\n",
    "student_classifier_list.append('Linear Regression')\n",
    "\n",
    "print(student_classifier_list)\n",
    "\n",
    "print(\"Student %d's favorite classifier is %s\" % (2, student_classifier_list[1]))\n",
    "\n",
    "# Indexing with list\n",
    "print(student_classifier_list[0:2])\n",
    "print(student_classifier_list[0:-1])\n",
    "print(student_classifier_list[1:2])"
   ]
  },
  {
   "cell_type": "markdown",
   "metadata": {},
   "source": [
    "## Python File IO"
   ]
  },
  {
   "cell_type": "code",
   "execution_count": 5,
   "metadata": {
    "collapsed": true
   },
   "outputs": [],
   "source": [
    "# Write to a file\n",
    "f = open(\"foo.txt\", \"w\")\n",
    "f.write(\"1: SVM\\n\")\n",
    "f.write(\"2: Deep Network\\n\")\n",
    "f.write(\"3: Linear Regression\\n\")\n",
    "f.close()"
   ]
  },
  {
   "cell_type": "code",
   "execution_count": 6,
   "metadata": {},
   "outputs": [
    {
     "name": "stdout",
     "output_type": "stream",
     "text": [
      "1: SVM\n",
      "\n",
      "2: Deep Network\n",
      "\n",
      "3: Linear Regression\n",
      "\n",
      "{'1': ' SVM', '2': ' Deep Network', '3': ' Linear Regression'}\n"
     ]
    }
   ],
   "source": [
    "# Read the file back\n",
    "f = open(\"foo.txt\", \"r\")\n",
    "student_classifier_dict_2 = {}\n",
    "for line in f:\n",
    "    print(line)\n",
    "    student_id, classifer = line.rstrip().split(':')\n",
    "    student_classifier_dict_2[student_id] = classifer\n",
    "    \n",
    "print(student_classifier_dict_2)"
   ]
  },
  {
   "cell_type": "markdown",
   "metadata": {},
   "source": [
    "## Python Class\n",
    "https://docs.python.org/3/tutorial/classes.html"
   ]
  },
  {
   "cell_type": "code",
   "execution_count": 7,
   "metadata": {
    "collapsed": true
   },
   "outputs": [],
   "source": [
    "class Student(object):\n",
    "    def __init__(self, student_id, classifier):\n",
    "        self.student_id = student_id\n",
    "        self.classifier = classifier\n",
    "    def print_classifer(self):\n",
    "        print(\"Student %s's favorite classifier is %s\" % (self.student_id, self.classifier))\n",
    "        "
   ]
  },
  {
   "cell_type": "code",
   "execution_count": 8,
   "metadata": {},
   "outputs": [
    {
     "name": "stdout",
     "output_type": "stream",
     "text": [
      "Student 1's favorite classifier is SVM\n"
     ]
    }
   ],
   "source": [
    "student1 = Student('1','SVM')\n",
    "student1.print_classifer()"
   ]
  },
  {
   "cell_type": "markdown",
   "metadata": {},
   "source": [
    "# What is Numpy?\n",
    "http://www.numpy.org/\n",
    "\n",
    "NumPy is the fundamental package for scientific computing with Python.\n",
    "Main functionalities:\n",
    "- a powerful N-dimensional array object\n",
    "- useful linear algebra, Fourier transform, and random number capabilities\n",
    "\n",
    "\n"
   ]
  },
  {
   "cell_type": "markdown",
   "metadata": {
    "collapsed": true
   },
   "source": [
    "## Numpy Container (np.array)\n",
    "Numpy's array is very similar to MATLAB's matrix.\n",
    "\n",
    "There are many similarites between MATLAB and numpy, a few examples are shown below.\n",
    "\n",
    "More information at https://docs.scipy.org/doc/numpy-dev/user/numpy-for-matlab-users.html"
   ]
  },
  {
   "cell_type": "code",
   "execution_count": 9,
   "metadata": {
    "collapsed": true
   },
   "outputs": [],
   "source": [
    "import numpy as np"
   ]
  },
  {
   "cell_type": "markdown",
   "metadata": {},
   "source": [
    "## Numpy Array Manipulation\n",
    "More details at \n",
    "- http://docs.scipy.org/doc/numpy/reference/arrays.indexing.htm\n",
    "- https://docs.scipy.org/doc/numpy-dev/user/quickstart.html"
   ]
  },
  {
   "cell_type": "code",
   "execution_count": 10,
   "metadata": {},
   "outputs": [
    {
     "name": "stdout",
     "output_type": "stream",
     "text": [
      "[[1 2 3]\n",
      " [4 5 6]]\n",
      "6\n",
      "3\n",
      "[[   1    2 -100]\n",
      " [   4    5    6]]\n",
      "[   1    2 -100]\n"
     ]
    }
   ],
   "source": [
    "# Declare an array\n",
    "X = np.array([[1,2,3],[4,5,6]])\n",
    "print(X)\n",
    "\n",
    "# Indexing an element\n",
    "print(X[1,2])\n",
    "\n",
    "# indexing the last element of row 0\n",
    "print(X[0,-1])\n",
    "\n",
    "# More advance indexing\n",
    "y = np.zeros(X.shape, dtype=np.bool)\n",
    "y[0,2] = True\n",
    "X[y] = -100\n",
    "print(X)\n",
    "\n",
    "# Get the 0th row\n",
    "print(X[0, :])\n",
    "        "
   ]
  },
  {
   "cell_type": "markdown",
   "metadata": {},
   "source": [
    "## Numpy basic array operations\n",
    "- \"Matrix\" Multiplication: https://docs.scipy.org/doc/numpy/reference/generated/numpy.dot.html\n",
    "- \"Matrix\" linear algebra: http://docs.scipy.org/doc/numpy/reference/routines.linalg.html"
   ]
  },
  {
   "cell_type": "code",
   "execution_count": 11,
   "metadata": {},
   "outputs": [
    {
     "name": "stdout",
     "output_type": "stream",
     "text": [
      "This is x:\n",
      "[[-0.62285051]\n",
      " [ 0.54187364]\n",
      " [-2.18697629]]\n",
      "This is x_hat:\n",
      "[[-0.62285051]\n",
      " [ 0.54187364]\n",
      " [-2.18697629]]\n"
     ]
    }
   ],
   "source": [
    "# Ax = b\n",
    "A = np.random.randn(3,3)  # Creates a 3x3 random array\n",
    "x = np.random.randn(3,1)  # Creates a 3x1 vector\n",
    "b = np.dot(A,x)  # Compute Ax = b\n",
    "\n",
    "# Solve Ax = b\n",
    "x_hat = np.dot(np.linalg.inv(A),b)  # Solves for x\n",
    "\n",
    "print(\"This is x:\")\n",
    "print(x)\n",
    "print(\"This is x_hat:\")\n",
    "print(x_hat)"
   ]
  },
  {
   "cell_type": "markdown",
   "metadata": {},
   "source": [
    "## Numpy array broadcasting\n",
    "- http://docs.scipy.org/doc/numpy-1.10.0/user/basics.broadcasting.html\n",
    "- http://docs.scipy.org/doc/numpy/user/basics.broadcasting.html"
   ]
  },
  {
   "cell_type": "code",
   "execution_count": 12,
   "metadata": {},
   "outputs": [
    {
     "name": "stdout",
     "output_type": "stream",
     "text": [
      "[ 2.  4.  6.]\n",
      "---------------------------------\n",
      "This is A:\n",
      "[[ 1.  1.  1.]\n",
      " [ 1.  1.  1.]]\n",
      "This is b:\n",
      "[[1]\n",
      " [2]]\n",
      "This is A*b:\n",
      "[[ 1.  1.  1.]\n",
      " [ 2.  2.  2.]]\n",
      "---------------------------------\n",
      "This is A2:\n",
      "[[ 1.  1.  1.]\n",
      " [ 1.  1.  1.]]\n",
      "This is b2:\n",
      "[[1 2 3]]\n",
      "This is A2*b2:\n",
      "[[ 1.  2.  3.]\n",
      " [ 1.  2.  3.]]\n",
      "---------------------------------\n",
      "This is A2+b2:\n",
      "[[ 2.  3.  4.]\n",
      " [ 2.  3.  4.]]\n"
     ]
    }
   ],
   "source": [
    "# Performs element-wise multiplication (Example from links above)\n",
    "a = np.array([1.0, 2.0, 3.0])\n",
    "b = np.array([2.0, 2.0, 2.0])\n",
    "print(a * b)\n",
    "print('---------------------------------')\n",
    "# Performs element-wise multiplication per column.\n",
    "A = np.ones((2,3))\n",
    "b = np.array([[1],[2]])\n",
    "print(\"This is A:\")\n",
    "print(A)\n",
    "print(\"This is b:\")\n",
    "print(b)\n",
    "print(\"This is A*b:\")\n",
    "print(A*b)\n",
    "print('---------------------------------')\n",
    "# Performs element-wise multiplication per row.\n",
    "A2 = np.ones((2,3))\n",
    "b2 = np.array([[1,2,3]])\n",
    "print(\"This is A2:\")\n",
    "print(A2)\n",
    "print(\"This is b2:\")\n",
    "print(b2)\n",
    "print(\"This is A2*b2:\")\n",
    "print(A2*b2)\n",
    "\n",
    "print('---------------------------------')\n",
    "print(\"This is A2+b2:\")\n",
    "print(A2+b2)\n"
   ]
  },
  {
   "cell_type": "markdown",
   "metadata": {},
   "source": [
    "## Numpy File IO\n",
    "http://docs.scipy.org/doc/numpy/reference/routines.io.html"
   ]
  },
  {
   "cell_type": "markdown",
   "metadata": {},
   "source": [
    "# What is TensorFlow?\n",
    "<img src=\"https://i.ytimg.com/vi/oZikw5k_2FM/maxresdefault.jpg\" alt=\"\" style=\"width: 500px;\"/>\n",
    "https://www.tensorflow.org/\n",
    "- \"TensorFlow is an open source software library for numerical computation using data flow graphs. Nodes in the graph represent mathematical operations, while the graph edges represent the multidimensional data arrays (tensors) communicated between them.\" \n",
    "- The following examples follows the concepts covered in https://www.tensorflow.org/versions/r0.10/tutorials/index.html, and the key APIs in https://www.tensorflow.org/versions/r0.10/api_docs/python/client.html#session-management"
   ]
  },
  {
   "cell_type": "markdown",
   "metadata": {},
   "source": [
    "## TensorFlow Computational Graphs\n",
    "- In TensorFlow, the compuation functions are used to define the computational graph, and does not have values until the computational graph is evaluted explicitly. "
   ]
  },
  {
   "cell_type": "code",
   "execution_count": 13,
   "metadata": {
    "collapsed": true
   },
   "outputs": [],
   "source": [
    "import numpy as np\n",
    "import tensorflow as tf\n",
    "sess = tf.Session()"
   ]
  },
  {
   "cell_type": "code",
   "execution_count": 14,
   "metadata": {},
   "outputs": [
    {
     "name": "stdout",
     "output_type": "stream",
     "text": [
      "Tensor(\"random_uniform:0\", shape=(2, 3), dtype=float32)\n",
      "WARNING:tensorflow:From C:\\Users\\whuang67\\Anaconda3\\lib\\site-packages\\tensorflow\\python\\util\\tf_should_use.py:175: initialize_all_variables (from tensorflow.python.ops.variables) is deprecated and will be removed after 2017-03-02.\n",
      "Instructions for updating:\n",
      "Use `tf.global_variables_initializer` instead.\n",
      "[[ 0.70044327  0.07466722  0.81889081]\n",
      " [ 0.00709438  0.27824926  0.35979271]]\n",
      "----------------------------------------------\n",
      "[[ 0.79055476  0.03884525  0.63170485]\n",
      " [ 0.82548996  0.76200443  0.19331355]]\n"
     ]
    }
   ],
   "source": [
    "A_tf = tf.random_uniform([2,3])\n",
    "print(A_tf)\n",
    "\n",
    "sess.run(tf.initialize_all_variables())\n",
    "A_tf_evaluted = sess.run(A_tf)\n",
    "print(A_tf_evaluted)\n",
    "print(\"----------------------------------------------\")\n",
    "A_np = np.random.rand(2,3)\n",
    "print(A_np)"
   ]
  },
  {
   "cell_type": "markdown",
   "metadata": {},
   "source": [
    "## TensorFlow Sessions\n",
    "- A Session object encapsulates the environment in which Operation objects are executed, and Tensor objects are evaluated - https://www.tensorflow.org/"
   ]
  },
  {
   "cell_type": "code",
   "execution_count": 15,
   "metadata": {},
   "outputs": [
    {
     "name": "stdout",
     "output_type": "stream",
     "text": [
      "A:\n",
      "[[ 1.  1.  1.]\n",
      " [ 1.  1.  1.]]\n",
      "x:\n",
      "[[ 1.]\n",
      " [ 2.]\n",
      " [ 3.]]\n",
      "b:\n",
      "[[ 6.]\n",
      " [ 6.]]\n"
     ]
    }
   ],
   "source": [
    "# Define a simple computation graph. b = Ax\n",
    "A = tf.constant(1.0, shape=[2,3])\n",
    "x = tf.constant([1.0,2.0,3.0], shape=[3,1])\n",
    "b = tf.matmul(A,x)\n",
    "\n",
    "sess.run(tf.global_variables_initializer())\n",
    "print(\"A:\")\n",
    "print(sess.run(A))\n",
    "print(\"x:\")\n",
    "print(sess.run(x))\n",
    "print(\"b:\")\n",
    "print(sess.run(b))\n"
   ]
  },
  {
   "cell_type": "code",
   "execution_count": 16,
   "metadata": {},
   "outputs": [
    {
     "name": "stdout",
     "output_type": "stream",
     "text": [
      "1.0\n",
      "2.0\n",
      "3.0\n"
     ]
    }
   ],
   "source": [
    "# Defining an update opteration\n",
    "x = tf.Variable(1.0)\n",
    "increment = x.assign_add(1.0)  # Adds 1 to the variable x.\n",
    "sess.run(tf.global_variables_initializer())\n",
    "for k in range(0,3):\n",
    "    print(sess.run(x))\n",
    "    sess.run(increment)"
   ]
  },
  {
   "cell_type": "code",
   "execution_count": 17,
   "metadata": {},
   "outputs": [
    {
     "name": "stdout",
     "output_type": "stream",
     "text": [
      "1.0\n",
      "2.0\n",
      "3.0\n"
     ]
    }
   ],
   "source": [
    "# Defining an update opteration repeatedly (Don't do this)!\n",
    "x = tf.Variable(1.0)\n",
    "sess.run(tf.global_variables_initializer())\n",
    "for k in range(0,3):\n",
    "    print(sess.run(x))\n",
    "    increment = x.assign_add(1.0)  # Adds 1 to the variable x.\n",
    "    sess.run(increment)"
   ]
  },
  {
   "cell_type": "markdown",
   "metadata": {},
   "source": [
    "## Getting data into Tensorflow.\n",
    "### Feeding from numpy  with placeholder\n",
    "Revelent Tensorflow Pages\n",
    "\n",
    "https://www.tensorflow.org/versions/r0.10/tutorials/mnist/tf/index.html#inputs-and-placeholders\n",
    "https://github.com/tensorflow/tensorflow/blob/r0.10/tensorflow/examples/tutorials/mnist/fully_connected_feed.py"
   ]
  },
  {
   "cell_type": "markdown",
   "metadata": {},
   "source": [
    "## Linear Regression Tensorflow Example\n",
    "This example will demonstrate the following concepts:\n",
    "- Matplotlib\n",
    "- Feeding Dictionary\n",
    "- Automatic differentiation\n",
    "\n"
   ]
  },
  {
   "cell_type": "code",
   "execution_count": 18,
   "metadata": {
    "collapsed": true
   },
   "outputs": [],
   "source": [
    "%matplotlib inline\n",
    "import warnings\n",
    "warnings.filterwarnings(\"ignore\")\n",
    "# Only need '%matplotlib inline' when running in ipytho notebook.\n",
    "import matplotlib.pyplot as plt"
   ]
  },
  {
   "cell_type": "code",
   "execution_count": 19,
   "metadata": {},
   "outputs": [
    {
     "data": {
      "image/png": "[encoded data removed]",
      "text/plain": [
       "<matplotlib.figure.Figure at 0x2be3cde828>"
      ]
     },
     "metadata": {},
     "output_type": "display_data"
    }
   ],
   "source": [
    "# Create 200 data points, using a linear model with noise.\n",
    "x = (np.random.rand(200,1)-0.5)*2.0\n",
    "noise = 10*np.random.rand(200,1)\n",
    "b = 1\n",
    "y = 0.5*x+ b +0.02*noise \n",
    "plt.scatter(x,y)\n",
    "\n",
    "# Pad x with 1 for bias-term.\n",
    "x = np.concatenate((x,np.ones(x.shape)),axis=1)"
   ]
  },
  {
   "cell_type": "code",
   "execution_count": 20,
   "metadata": {},
   "outputs": [
    {
     "name": "stdout",
     "output_type": "stream",
     "text": [
      "WARNING:tensorflow:From C:\\Users\\whuang67\\Anaconda3\\lib\\site-packages\\tensorflow\\python\\util\\tf_should_use.py:175: initialize_all_variables (from tensorflow.python.ops.variables) is deprecated and will be removed after 2017-03-02.\n",
      "Instructions for updating:\n",
      "Use `tf.global_variables_initializer` instead.\n",
      "Loss at step 0: 61.520355\n",
      "Loss at step 5: 14.701994\n",
      "Loss at step 10: 4.080428\n",
      "Loss at step 15: 1.517567\n",
      "Loss at step 20: 0.898199\n",
      "Loss at step 25: 0.748510\n",
      "Loss at step 30: 0.712334\n",
      "Loss at step 35: 0.703590\n",
      "Loss at step 40: 0.701477\n",
      "Loss at step 45: 0.700967\n",
      "Loss at step 50: 0.700843\n",
      "Loss at step 55: 0.700814\n",
      "Loss at step 60: 0.700806\n",
      "Loss at step 65: 0.700804\n",
      "Loss at step 70: 0.700804\n",
      "Loss at step 75: 0.700804\n",
      "Loss at step 80: 0.700804\n",
      "Loss at step 85: 0.700804\n",
      "Loss at step 90: 0.700804\n",
      "Loss at step 95: 0.700804\n",
      "[[ 0.50078553]\n",
      " [ 1.09809029]]\n"
     ]
    }
   ],
   "source": [
    "# Define computational graph using placeholders\n",
    "X_placeholder = tf.placeholder(tf.float32, shape=[None,2])  # Define a placeholder for the input feature\n",
    "y_placeholder = tf.placeholder(tf.float32, shape=[None,1])  # Define a placeholder for the label\n",
    "w = tf.Variable(tf.random_normal([2,1]))  # Random initialize the weight and bias\n",
    "y_hat = tf.matmul(X_placeholder,w)\n",
    "loss = tf.reduce_sum(tf.square(y_placeholder-y_hat))  # Define the l2 difference loss\n",
    "\n",
    "opt = tf.train.GradientDescentOptimizer(0.001)  # Create a gradient descent optimizer\n",
    "update_op = opt.minimize(loss)  # Tensorflow computes the gradients for you!\n",
    "\n",
    "sess = tf.Session()  # Defines a session\n",
    "sess.run(tf.initialize_all_variables())\n",
    "# Performs gradient descent\n",
    "for step in range(0,100):\n",
    "    feed_dict = {X_placeholder:x, y_placeholder:y}\n",
    "    _, loss_np = sess.run([update_op, loss], feed_dict=feed_dict)\n",
    "    if step % 5 == 0:\n",
    "        print(\"Loss at step %d: %f\" % (step, loss_np))\n",
    "print(sess.run(w))\n",
    "w_np = sess.run(w)"
   ]
  },
  {
   "cell_type": "code",
   "execution_count": 21,
   "metadata": {},
   "outputs": [
    {
     "data": {
      "text/plain": [
       "[<matplotlib.lines.Line2D at 0x2be3cde470>]"
      ]
     },
     "execution_count": 21,
     "metadata": {},
     "output_type": "execute_result"
    },
    {
     "data": {
      "image/png": "[encoded data removed]",
      "text/plain": [
       "<matplotlib.figure.Figure at 0x2be3cde3c8>"
      ]
     },
     "metadata": {},
     "output_type": "display_data"
    }
   ],
   "source": [
    "plt.scatter(x[:,0],y)\n",
    "x_axis = np.arange(-1.5, 1.5,0.001)\n",
    "y_predict = w_np[0]*x_axis + w_np[1]\n",
    "plt.plot(x_axis,y_predict,'r',linewidth=3)"
   ]
  },
  {
   "cell_type": "code",
   "execution_count": null,
   "metadata": {
    "collapsed": true
   },
   "outputs": [],
   "source": []
  }
 ],
 "metadata": {
  "kernelspec": {
   "display_name": "Python 3",
   "language": "python",
   "name": "python3"
  },
  "language_info": {
   "codemirror_mode": {
    "name": "ipython",
    "version": 3
   },
   "file_extension": ".py",
   "mimetype": "text/x-python",
   "name": "python",
   "nbconvert_exporter": "python",
   "pygments_lexer": "ipython3",
   "version": "3.6.1"
  }
 },
 "nbformat": 4,
 "nbformat_minor": 1
}
