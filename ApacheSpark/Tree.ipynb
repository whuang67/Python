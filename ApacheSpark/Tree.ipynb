{
 "cells": [
  {
   "cell_type": "code",
   "execution_count": 2,
   "metadata": {},
   "outputs": [
    {
     "name": "stdout",
     "output_type": "stream",
     "text": [
      "+-----+--------------------+\n",
      "|label|            features|\n",
      "+-----+--------------------+\n",
      "|  0.0|(692,[127,128,129...|\n",
      "|  1.0|(692,[158,159,160...|\n",
      "|  1.0|(692,[124,125,126...|\n",
      "|  1.0|(692,[152,153,154...|\n",
      "|  1.0|(692,[151,152,153...|\n",
      "|  0.0|(692,[129,130,131...|\n",
      "|  1.0|(692,[158,159,160...|\n",
      "|  1.0|(692,[99,100,101,...|\n",
      "|  0.0|(692,[154,155,156...|\n",
      "|  0.0|(692,[127,128,129...|\n",
      "|  1.0|(692,[154,155,156...|\n",
      "|  0.0|(692,[153,154,155...|\n",
      "|  0.0|(692,[151,152,153...|\n",
      "|  1.0|(692,[129,130,131...|\n",
      "|  0.0|(692,[154,155,156...|\n",
      "|  1.0|(692,[150,151,152...|\n",
      "|  0.0|(692,[124,125,126...|\n",
      "|  0.0|(692,[152,153,154...|\n",
      "|  1.0|(692,[97,98,99,12...|\n",
      "|  1.0|(692,[124,125,126...|\n",
      "+-----+--------------------+\n",
      "only showing top 20 rows\n",
      "\n"
     ]
    }
   ],
   "source": [
    "import findspark\n",
    "findspark.init('/home/mint/spark-2.1.0-bin-hadoop2.7')\n",
    "from pyspark.sql import SparkSession\n",
    "spark = SparkSession.builder.appName('tree').getOrCreate()\n",
    "data = spark.read.format('libsvm').load('sample_libsvm_data.txt')\n",
    "data.show()"
   ]
  },
  {
   "cell_type": "code",
   "execution_count": 12,
   "metadata": {},
   "outputs": [],
   "source": [
    "from pyspark.ml import Pipeline\n",
    "from pyspark.ml.classification import RandomForestClassifier, GBTClassifier, DecisionTreeClassifier\n",
    "train_data, test_data = data.randomSplit([0.7, 0.3])"
   ]
  },
  {
   "cell_type": "code",
   "execution_count": 13,
   "metadata": {},
   "outputs": [],
   "source": [
    "dtc = DecisionTreeClassifier()\n",
    "dtc_model = dtc.fit(train_data)\n",
    "dtc_preds = dtc_model.transform(test_data)\n",
    "\n",
    "gbt = GBTClassifier()\n",
    "gbt_model = gbt.fit(train_data)\n",
    "gbt_preds = gbt_model.transform(test_data)\n",
    "\n",
    "rfc = RandomForestClassifier(numTrees=100)\n",
    "rfc_model = rfc.fit(train_data)\n",
    "rfc_preds = rfc_model.transform(test_data)"
   ]
  },
  {
   "cell_type": "code",
   "execution_count": 7,
   "metadata": {},
   "outputs": [
    {
     "name": "stdout",
     "output_type": "stream",
     "text": [
      "+-----+--------------------+-------------+-----------+----------+\n",
      "|label|            features|rawPrediction|probability|prediction|\n",
      "+-----+--------------------+-------------+-----------+----------+\n",
      "|  0.0|(692,[98,99,100,1...|    [0.0,1.0]|  [0.0,1.0]|       1.0|\n",
      "|  0.0|(692,[123,124,125...|   [30.0,0.0]|  [1.0,0.0]|       0.0|\n",
      "|  0.0|(692,[124,125,126...|   [30.0,0.0]|  [1.0,0.0]|       0.0|\n",
      "|  0.0|(692,[124,125,126...|   [30.0,0.0]|  [1.0,0.0]|       0.0|\n",
      "|  0.0|(692,[125,126,127...|   [30.0,0.0]|  [1.0,0.0]|       0.0|\n",
      "|  0.0|(692,[126,127,128...|   [30.0,0.0]|  [1.0,0.0]|       0.0|\n",
      "|  0.0|(692,[127,128,129...|   [30.0,0.0]|  [1.0,0.0]|       0.0|\n",
      "|  0.0|(692,[127,128,129...|   [30.0,0.0]|  [1.0,0.0]|       0.0|\n",
      "|  0.0|(692,[151,152,153...|   [30.0,0.0]|  [1.0,0.0]|       0.0|\n",
      "|  0.0|(692,[152,153,154...|   [30.0,0.0]|  [1.0,0.0]|       0.0|\n",
      "|  0.0|(692,[153,154,155...|   [30.0,0.0]|  [1.0,0.0]|       0.0|\n",
      "|  0.0|(692,[153,154,155...|   [30.0,0.0]|  [1.0,0.0]|       0.0|\n",
      "|  0.0|(692,[155,156,180...|   [30.0,0.0]|  [1.0,0.0]|       0.0|\n",
      "|  1.0|(692,[123,124,125...|   [0.0,40.0]|  [0.0,1.0]|       1.0|\n",
      "|  1.0|(692,[125,126,127...|   [0.0,40.0]|  [0.0,1.0]|       1.0|\n",
      "|  1.0|(692,[125,126,153...|   [0.0,40.0]|  [0.0,1.0]|       1.0|\n",
      "|  1.0|(692,[126,127,128...|   [0.0,40.0]|  [0.0,1.0]|       1.0|\n",
      "|  1.0|(692,[126,127,128...|   [0.0,40.0]|  [0.0,1.0]|       1.0|\n",
      "|  1.0|(692,[127,128,129...|   [0.0,40.0]|  [0.0,1.0]|       1.0|\n",
      "|  1.0|(692,[127,128,129...|   [0.0,40.0]|  [0.0,1.0]|       1.0|\n",
      "+-----+--------------------+-------------+-----------+----------+\n",
      "only showing top 20 rows\n",
      "\n"
     ]
    }
   ],
   "source": [
    "dtc_preds.show()"
   ]
  },
  {
   "cell_type": "code",
   "execution_count": 11,
   "metadata": {},
   "outputs": [
    {
     "name": "stdout",
     "output_type": "stream",
     "text": [
      "Decision Tree Accuracy:\n",
      "0.9655172413793104\n",
      "Random Forest Accuracy:\n",
      "1.0\n",
      "Gradient Boosting Accuracy:\n",
      "0.9655172413793104\n"
     ]
    }
   ],
   "source": [
    "from pyspark.ml.evaluation import MulticlassClassificationEvaluator\n",
    "acc_eval = MulticlassClassificationEvaluator(metricName='accuracy')\n",
    "print(\"Decision Tree Accuracy:\")\n",
    "print(acc_eval.evaluate(dtc_preds))\n",
    "print(\"Random Forest Accuracy:\")\n",
    "print(acc_eval.evaluate(rfc_preds))\n",
    "print(\"Gradient Boosting Accuracy:\")\n",
    "print(acc_eval.evaluate(gbt_preds))"
   ]
  },
  {
   "cell_type": "code",
   "execution_count": 14,
   "metadata": {},
   "outputs": [
    {
     "data": {
      "text/plain": [
       "SparseVector(692, {131: 0.0008, 183: 0.0019, 185: 0.0006, 186: 0.0005, 213: 0.0001, 215: 0.0008, 234: 0.0008, 262: 0.0093, 263: 0.0133, 264: 0.0004, 271: 0.0128, 272: 0.0082, 290: 0.0076, 291: 0.0005, 295: 0.002, 302: 0.0071, 314: 0.0037, 316: 0.0009, 318: 0.0015, 322: 0.0088, 323: 0.0044, 326: 0.0003, 327: 0.0009, 328: 0.007, 342: 0.0011, 351: 0.042, 370: 0.0008, 372: 0.0073, 373: 0.0157, 375: 0.0012, 377: 0.0039, 378: 0.0477, 379: 0.0018, 385: 0.0062, 388: 0.0014, 398: 0.0006, 402: 0.0014, 404: 0.0006, 405: 0.0034, 406: 0.0351, 407: 0.0253, 410: 0.0006, 411: 0.001, 412: 0.0107, 414: 0.0062, 415: 0.0023, 426: 0.0044, 427: 0.0088, 429: 0.0163, 431: 0.0005, 432: 0.0086, 433: 0.047, 434: 0.02, 435: 0.0224, 438: 0.0004, 439: 0.0006, 441: 0.0016, 442: 0.0015, 444: 0.0027, 454: 0.0025, 455: 0.0245, 456: 0.0022, 460: 0.0015, 461: 0.0297, 462: 0.0327, 463: 0.0005, 468: 0.0071, 472: 0.003, 481: 0.001, 482: 0.0104, 483: 0.0597, 488: 0.0032, 489: 0.0424, 490: 0.0718, 491: 0.0007, 495: 0.0116, 496: 0.0143, 510: 0.0011, 511: 0.0279, 512: 0.0083, 514: 0.001, 515: 0.0005, 517: 0.0781, 518: 0.0031, 521: 0.0005, 522: 0.0011, 524: 0.0065, 538: 0.0073, 539: 0.0094, 540: 0.0092, 541: 0.0053, 544: 0.0011, 551: 0.008, 552: 0.0001, 567: 0.0082, 568: 0.0254, 569: 0.0003, 570: 0.0005, 577: 0.0062, 579: 0.0061, 580: 0.0077, 581: 0.0006, 594: 0.0002, 596: 0.0061, 604: 0.0011, 606: 0.0011, 607: 0.0018, 608: 0.0006, 626: 0.001, 635: 0.0006})"
      ]
     },
     "execution_count": 14,
     "metadata": {},
     "output_type": "execute_result"
    }
   ],
   "source": [
    "rfc_model.featureImportances"
   ]
  },
  {
   "cell_type": "code",
   "execution_count": null,
   "metadata": {},
   "outputs": [],
   "source": []
  }
 ],
 "metadata": {
  "kernelspec": {
   "display_name": "Python 3",
   "language": "python",
   "name": "python3"
  },
  "language_info": {
   "codemirror_mode": {
    "name": "ipython",
    "version": 3
   },
   "file_extension": ".py",
   "mimetype": "text/x-python",
   "name": "python",
   "nbconvert_exporter": "python",
   "pygments_lexer": "ipython3",
   "version": "3.5.2"
  }
 },
 "nbformat": 4,
 "nbformat_minor": 2
}
