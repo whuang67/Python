{
 "cells": [
  {
   "cell_type": "code",
   "execution_count": 1,
   "metadata": {},
   "outputs": [
    {
     "name": "stdout",
     "output_type": "stream",
     "text": [
      "+-------+------+------+\n",
      "|movieId|rating|userId|\n",
      "+-------+------+------+\n",
      "|      2|   3.0|     0|\n",
      "|      3|   1.0|     0|\n",
      "|      5|   2.0|     0|\n",
      "|      9|   4.0|     0|\n",
      "|     11|   1.0|     0|\n",
      "|     12|   2.0|     0|\n",
      "|     15|   1.0|     0|\n",
      "|     17|   1.0|     0|\n",
      "|     19|   1.0|     0|\n",
      "|     21|   1.0|     0|\n",
      "|     23|   1.0|     0|\n",
      "|     26|   3.0|     0|\n",
      "|     27|   1.0|     0|\n",
      "|     28|   1.0|     0|\n",
      "|     29|   1.0|     0|\n",
      "|     30|   1.0|     0|\n",
      "|     31|   1.0|     0|\n",
      "|     34|   1.0|     0|\n",
      "|     37|   1.0|     0|\n",
      "|     41|   2.0|     0|\n",
      "+-------+------+------+\n",
      "only showing top 20 rows\n",
      "\n"
     ]
    }
   ],
   "source": [
    "import findspark\n",
    "findspark.init('/home/mint/spark-2.1.0-bin-hadoop2.7')\n",
    "from pyspark.sql import SparkSession\n",
    "spark = SparkSession.builder.appName('rec').getOrCreate()\n",
    "data = spark.read.csv('movielens_ratings.csv', inferSchema=True, header=True)\n",
    "data.show()"
   ]
  },
  {
   "cell_type": "code",
   "execution_count": 2,
   "metadata": {},
   "outputs": [
    {
     "name": "stdout",
     "output_type": "stream",
     "text": [
      "+-------+------+------+------------+\n",
      "|movieId|rating|userId|  prediction|\n",
      "+-------+------+------+------------+\n",
      "|     85|   1.0|    12|   -0.506113|\n",
      "|     85|   3.0|     6|   2.4651365|\n",
      "|     85|   1.0|     4| -0.39240158|\n",
      "|     85|   1.0|    23|   2.5723114|\n",
      "|     85|   4.0|     7|  -2.5198703|\n",
      "|     85|   1.0|    25|   2.1131983|\n",
      "|     85|   3.0|    21|   2.7996652|\n",
      "|     65|   1.0|    22|   2.1855187|\n",
      "|     65|   1.0|    16|    2.048207|\n",
      "|     65|   5.0|    23|   3.8772216|\n",
      "|     65|   1.0|    24| -0.30137157|\n",
      "|     65|   1.0|     2| -0.40656617|\n",
      "|     53|   1.0|    12|   0.6356875|\n",
      "|     53|   5.0|     8|   6.2539587|\n",
      "|     53|   1.0|    25|   1.7201474|\n",
      "|     53|   3.0|    14|-0.064964175|\n",
      "|     78|   1.0|     1|   1.0734012|\n",
      "|     78|   1.0|    20|   1.2275665|\n",
      "|     78|   1.0|    24| -0.22141272|\n",
      "|     34|   1.0|    16|   3.4690292|\n",
      "+-------+------+------+------------+\n",
      "only showing top 20 rows\n",
      "\n"
     ]
    }
   ],
   "source": [
    "from pyspark.ml.recommendation import ALS\n",
    "from pyspark.ml.evaluation import RegressionEvaluator\n",
    "train_data, test_data = data.randomSplit([0.7, 0.3])\n",
    "model = ALS(maxIter=5, regParam=0.01, userCol='userId', itemCol='movieId', ratingCol='rating').fit(train_data)\n",
    "predictions = model.transform(test_data)\n",
    "predictions.show()"
   ]
  },
  {
   "cell_type": "code",
   "execution_count": 4,
   "metadata": {},
   "outputs": [
    {
     "name": "stdout",
     "output_type": "stream",
     "text": [
      "Testing RMSE\n",
      "2.2015891853360703\n"
     ]
    }
   ],
   "source": [
    "print('Testing RMSE:')\n",
    "print(RegressionEvaluator(metricName='rmse', labelCol='rating', predictionCol='prediction').evaluate(predictions))"
   ]
  },
  {
   "cell_type": "code",
   "execution_count": 9,
   "metadata": {},
   "outputs": [
    {
     "name": "stdout",
     "output_type": "stream",
     "text": [
      "+-------+------+-----------+\n",
      "|movieId|userId| prediction|\n",
      "+-------+------+-----------+\n",
      "|     80|    11|  4.0428543|\n",
      "|     88|    11|   3.930434|\n",
      "|     18|    11|  3.7125754|\n",
      "|     77|    11|   3.547746|\n",
      "|     38|    11|  2.5194998|\n",
      "|     32|    11|  2.4223847|\n",
      "|      9|    11|   2.327965|\n",
      "|     41|    11|  1.8651865|\n",
      "|     81|    11|  1.7083263|\n",
      "|     21|    11|  1.6200585|\n",
      "|     97|    11|  1.4544152|\n",
      "|     79|    11|  0.9570358|\n",
      "|     86|    11| 0.21667144|\n",
      "|     62|    11|-0.29146147|\n",
      "|      0|    11|-0.31706208|\n",
      "|     82|    11| -0.9322159|\n",
      "|     64|    11| -1.0584009|\n",
      "|     48|    11| -3.2417574|\n",
      "+-------+------+-----------+\n",
      "\n"
     ]
    }
   ],
   "source": [
    "single_user = test_data.filter(test_data['userId']==11).select(['movieId', 'userId'])\n",
    "model.transform(single_user).orderBy('prediction', ascending=False).show()"
   ]
  },
  {
   "cell_type": "code",
   "execution_count": null,
   "metadata": {},
   "outputs": [],
   "source": []
  }
 ],
 "metadata": {
  "kernelspec": {
   "display_name": "Python 3",
   "language": "python",
   "name": "python3"
  },
  "language_info": {
   "codemirror_mode": {
    "name": "ipython",
    "version": 3
   },
   "file_extension": ".py",
   "mimetype": "text/x-python",
   "name": "python",
   "nbconvert_exporter": "python",
   "pygments_lexer": "ipython3",
   "version": "3.5.2"
  }
 },
 "nbformat": 4,
 "nbformat_minor": 2
}
